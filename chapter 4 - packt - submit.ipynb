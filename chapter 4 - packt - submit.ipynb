{
 "cells": [
  {
   "cell_type": "markdown",
   "metadata": {},
   "source": [
    "# Python samples for chapter 4 - classification and design matrix"
   ]
  },
  {
   "cell_type": "markdown",
   "metadata": {},
   "source": [
    "# Estimator Example"
   ]
  },
  {
   "cell_type": "code",
   "execution_count": null,
   "metadata": {},
   "outputs": [],
   "source": [
    "import numpy as np\n",
    "np.random.seed(200)\n",
    "nsamples = 100\n",
    "ndraws = 100\n",
    "sequences_100 = np.array([])\n",
    "\n",
    "separate_100 = np.empty((ndraws,nsamples))\n",
    "for idx in range(ndraws):\n",
    "  values = np.round(np.random.normal(100,20,nsamples))\n",
    "  sequences_100 = np.concatenate((sequences_100, values ))\n",
    "  separate_100[idx,:] = values\n",
    "\n",
    "print(np.mean(sequences_100))\n",
    "print(np.std(sequences_100))\n",
    "print(np.mean(np.mean(separate_100,axis=0)))\n",
    "print(np.std(np.mean(separate_100,axis=0)))"
   ]
  },
  {
   "cell_type": "markdown",
   "metadata": {},
   "source": [
    "# Central Limit Theorem Illustration"
   ]
  },
  {
   "cell_type": "code",
   "execution_count": null,
   "metadata": {},
   "outputs": [],
   "source": [
    "import numpy as np\n",
    "import seaborn as sns\n",
    "\n",
    "np.random.seed(200)\n",
    "nsamples = 1000\n",
    "ndraws = 30\n",
    "sequences_1000 = np.array([])\n",
    "\n",
    "separate_1000 = np.empty((ndraws,nsamples))\n",
    "for idx in range(ndraws):\n",
    "  values = np.round(np.random.normal(100,20,nsamples))\n",
    "  sequences_1000 = np.concatenate((sequences_1000, values ))\n",
    "  separate_1000[idx,:] = values\n",
    "  \n",
    "sns.distplot(separate_1000)\n"
   ]
  },
  {
   "cell_type": "code",
   "execution_count": null,
   "metadata": {},
   "outputs": [],
   "source": [
    "print(np.mean(sequences_1000))\n",
    "print(np.std(sequences_1000))\n",
    "print(np.mean(np.mean(separate_1000,axis=0)))\n",
    "print(np.std(np.mean(separate_1000,axis=0)))\n",
    "\n",
    "99.96503333333334\n",
    "19.90130675773718\n",
    "99.96503333333332\n",
    "3.6885734368301373\n"
   ]
  },
  {
   "cell_type": "markdown",
   "metadata": {},
   "source": [
    "# Plot distribution of means"
   ]
  },
  {
   "cell_type": "code",
   "execution_count": null,
   "metadata": {},
   "outputs": [],
   "source": [
    "import numpy as np\n",
    "import seaborn as sns\n",
    "\n",
    "np.random.seed(200)\n",
    "nsamples = 1000\n",
    "ndraws = 30\n",
    "sequences_1000 = np.array([])\n",
    "\n",
    "separate_1000 = np.empty((ndraws,nsamples))\n",
    "for idx in range(ndraws):\n",
    "  values = np.round(np.random.normal(100,20,nsamples))\n",
    "  sequences_1000 = np.concatenate((sequences_1000, values ))\n",
    "  separate_1000[idx,:] = values\n",
    "  \n",
    "sns.distplot(np.mean(separate_1000,axis=0))\n",
    "plt.savefig(\"clt_hist.png\",dpi=300)\n",
    "\n",
    "print(np.mean(sequences_1000))\n",
    "print(np.std(sequences_1000))\n",
    "print(np.mean(np.mean(separate_1000,axis=0)))\n",
    "print(np.std(np.mean(separate_1000,axis=0)))\n",
    "\n"
   ]
  },
  {
   "cell_type": "markdown",
   "metadata": {},
   "source": [
    "# Pair plot for Iris species dataset"
   ]
  },
  {
   "cell_type": "code",
   "execution_count": null,
   "metadata": {},
   "outputs": [],
   "source": [
    "from sklearn import datasets\n",
    "import seaborn as sns\n",
    "import pandas as pd\n",
    "iris = datasets.load_iris()\n",
    "df = pd.DataFrame(iris.data)\n",
    "df['y'] = iris.target\n",
    "sns.pairplot(df, hue='y')"
   ]
  },
  {
   "cell_type": "markdown",
   "metadata": {},
   "source": [
    "# Explore collinearity in dataset"
   ]
  },
  {
   "cell_type": "code",
   "execution_count": null,
   "metadata": {},
   "outputs": [],
   "source": [
    "import numpy as np\n",
    "import seaborn as sns\n",
    "from sklearn.metrics import pairwise_distances\n",
    "\n",
    "X = np.random.random((10,10))\n",
    "dist_mat = pairwise_distances(X, metric='cosine')\n",
    "sns.heatmap(dist_mat)"
   ]
  },
  {
   "cell_type": "markdown",
   "metadata": {},
   "source": [
    "# Logistic Regression Illustration"
   ]
  },
  {
   "cell_type": "code",
   "execution_count": null,
   "metadata": {},
   "outputs": [],
   "source": [
    "import sklearn.linear_model\n",
    "scaler = preprocessing.StandardScaler().fit(X)\n",
    "X_train = scaler.transform(X)\n",
    "\n",
    "estimator = sklearn.linear_model.LogisticRegression(\n",
    "fit_intercept=True, n_jobs=2)\n",
    "\n",
    "classifier = estimator.fit(X_train,y)\n",
    "y_hat = classifier.predict(X_train)\n",
    "\n",
    "for idx in range(10):\n",
    "  print(y[idx],y_hat[idx])\n",
    "\n",
    "print( np.sum(np.abs(y-y_hat)) )\n"
   ]
  },
  {
   "cell_type": "markdown",
   "metadata": {},
   "source": [
    "# Decision Tree illustration"
   ]
  },
  {
   "cell_type": "code",
   "execution_count": null,
   "metadata": {},
   "outputs": [],
   "source": [
    "import numpy as np\n",
    "import seaborn as sns\n",
    "import pandas as pd\n",
    "import matplotlib.pyplot as plt\n",
    "\n",
    "# create dataset\n",
    "np.random.seed(10)\n",
    "cov1 = np.array(([10,1],[1,10]))\n",
    "mean1 = np.array([35,35])\n",
    "data1 = np.random.multivariate_normal(mean1, cov1,100)\n",
    "df1 = pd.DataFrame(data1, columns=['dim1','dim2'])\n",
    "df1['label'] = 1\n",
    "mean2 = np.array([25,25])\n",
    "cov1 = np.array(([20,0.5],[0.5,20]))\n",
    "data2 = np.random.multivariate_normal(mean2, cov1,100)\n",
    "df2 = pd.DataFrame(data2, columns=['dim1','dim2'])\n",
    "df2['label'] = 0\n",
    "mean3 = np.array([25,40])\n",
    "data3 = np.random.multivariate_normal(mean3, cov1,100)\n",
    "df3 = pd.DataFrame(data3, columns=['dim1','dim2'])\n",
    "df3['label'] = 0\n",
    "mean4 = np.array([40,25])\n",
    "data4 = np.random.multivariate_normal(mean4, cov1,100)\n",
    "df4 = pd.DataFrame(data4, columns=['dim1','dim2'])\n",
    "df4['label'] = 0\n",
    "\n",
    "# plot dataset\n",
    "df = pd.concat((df1,df2,df3,df4))\n",
    "plt.figure(figsize=(10,10),dpi=300)\n",
    "sns.set_style('darkgrid')\n",
    "print(\"df shape\",df.shape)\n",
    "p = sns.lmplot(data=df, x='dim1', y='dim2', fit_reg=False, hue='label', scatter_kws={'alpha':0.3})\n",
    "p.axes[0,0].set_xlim(0,100)\n",
    "p.axes[0,0].set_ylim(0,100)\n",
    "plt.savefig('decision-tree.png',dpi=300)\n"
   ]
  },
  {
   "cell_type": "code",
   "execution_count": null,
   "metadata": {},
   "outputs": [],
   "source": [
    "import numpy as np\n",
    "import seaborn as sns\n",
    "import pandas as pd\n",
    "import matplotlib.pyplot as plt\n",
    "\n",
    "%matplotlib inline\n",
    "\n",
    "np.random.seed(10)\n",
    "cov1 = np.array(([10,1],[1,10]))\n",
    "mean1 = np.array([35,35])\n",
    "data1 = np.random.multivariate_normal(mean1, cov1,100)\n",
    "df1 = pd.DataFrame(data1, columns=['dim1','dim2'])\n",
    "df1['label'] = 1\n",
    "\n",
    "mean2 = np.array([25,25])\n",
    "cov1 = np.array(([20,0.5],[0.5,20]))\n",
    "data2 = np.random.multivariate_normal(mean2, cov1,100)\n",
    "df2 = pd.DataFrame(data2, columns=['dim1','dim2'])\n",
    "df2['label'] = 0\n",
    "\n",
    "mean3 = np.array([25,40])\n",
    "data3 = np.random.multivariate_normal(mean3, cov1,100)\n",
    "df3 = pd.DataFrame(data3, columns=['dim1','dim2'])\n",
    "df3['label'] = 0\n",
    "\n",
    "mean4 = np.array([40,25])\n",
    "data4 = np.random.multivariate_normal(mean4, cov1,100)\n",
    "df4 = pd.DataFrame(data4, columns=['dim1','dim2'])\n",
    "df4['label'] = 0\n",
    "\n",
    "df = pd.concat((df1,df2,df3,df4))\n",
    "plt.figure(figsize=(10,10),dpi=300)\n",
    "sns.set_style('darkgrid')\n",
    "print(\"df shape\",df.shape)\n",
    "p = sns.lmplot(data=df, x='dim1', y='dim2', fit_reg=False, hue='label', scatter_kws={'alpha':0.3})\n",
    "p.axes[0,0].set_xlim(0,100)\n",
    "p.axes[0,0].set_ylim(0,100)\n",
    "plt.vlines([30.334,36.58],ymin=5,ymax=65, alpha=0.3)\n",
    "plt.hlines([31.857],xmin=5,xmax=65, alpha=0.3)\n",
    "plt.savefig('decision-tree-lines.png',dpi=300)"
   ]
  },
  {
   "cell_type": "code",
   "execution_count": null,
   "metadata": {},
   "outputs": [],
   "source": [
    "from sklearn import tree\n",
    "estimator = tree.DecisionTreeClassifier(max_depth=2)\n",
    "classifier = estimator.fit(df.iloc[:,0:2],df['label'])"
   ]
  },
  {
   "cell_type": "code",
   "execution_count": null,
   "metadata": {},
   "outputs": [],
   "source": [
    "import graphviz\n",
    "dot_data = tree.export_graphviz(classifier, out_file=None)\n",
    "graph = graphviz.Source(dot_data)\n",
    "graph.format = 'png'\n",
    "graph.render(\"non-linear\")"
   ]
  },
  {
   "cell_type": "markdown",
   "metadata": {},
   "source": [
    "# Support Vector Machine Illustration"
   ]
  },
  {
   "cell_type": "code",
   "execution_count": null,
   "metadata": {},
   "outputs": [],
   "source": [
    "import numpy as np\n",
    "import pandas as pd\n",
    "import matplotlib.pyplot as plt\n",
    "import seaborn as sns\n",
    "import matplotlib.lines as lines\n",
    "\n",
    "np.random.seed(10)\n",
    "cov1 = np.array(([10,1],[1,10]))\n",
    "mean1 = np.array([35,35])\n",
    "data1 = np.random.multivariate_normal(mean1, cov1,100)\n",
    "df1 = pd.DataFrame(data1, columns=['dim1','dim2'])\n",
    "df1['label'] = 1\n",
    "\n",
    "mean2 = np.array([25,25])\n",
    "cov1 = np.array(([15,0.5],[0.5,15]))\n",
    "data2 = np.random.multivariate_normal(mean2, cov1,100)\n",
    "df2 = pd.DataFrame(data2, columns=['dim1','dim2'])\n",
    "df2['label'] = 0\n",
    "\n",
    "df = pd.concat((df1,df2))\n",
    "plt.figure(figsize=(10,10),dpi=300)\n",
    "sns.set_style('darkgrid')\n",
    "print(\"df shape\",df.shape)\n",
    "p = sns.lmplot(data=df, x='dim1', y='dim2', fit_reg=False, hue='label', scatter_kws={'alpha':0.3})\n",
    "line1 = lines.Line2D([20,40],[40,20],lw=1, color='black',alpha=0.5)\n",
    "p.axes[0,0].add_line(line1)\n",
    "line2 = lines.Line2D([25,35],[40,20],lw=1, color='black',alpha=0.5)\n",
    "p.axes[0,0].add_line(line2)\n",
    "line3 = lines.Line2D([20,40],[35,25],lw=1, color='black',alpha=0.5)\n",
    "p.axes[0,0].add_line(line3)\n",
    "plt.savefig('svm-lines.png',dpi=300)"
   ]
  },
  {
   "cell_type": "code",
   "execution_count": 2,
   "metadata": {},
   "outputs": [
    {
     "name": "stdout",
     "output_type": "stream",
     "text": [
      "df shape (200, 3)\n"
     ]
    }
   ],
   "source": [
    "import numpy as np\n",
    "import pandas as pd\n",
    "import matplotlib.pyplot as plt\n",
    "import seaborn as sns\n",
    "import matplotlib.lines as lines\n",
    "from sklearn import svm\n",
    "\n",
    "np.random.seed(10)\n",
    "cov1 = np.array(([5,1],[1,5]))\n",
    "mean1 = np.array([35,35])\n",
    "data1 = np.random.multivariate_normal(mean1, cov1,100)\n",
    "df1 = pd.DataFrame(data1, columns=['dim1','dim2'])\n",
    "df1['label'] = 1\n",
    "\n",
    "mean2 = np.array([25,25])\n",
    "cov1 = np.array(([5,0.5],[0.5,5]))\n",
    "data2 = np.random.multivariate_normal(mean2, cov1,100)\n",
    "df2 = pd.DataFrame(data2, columns=['dim1','dim2'])\n",
    "df2['label'] = 0\n",
    "\n",
    "df = pd.concat((df1,df2))\n",
    "\n",
    "plt.figure(figsize=(10,10),dpi=300)\n",
    "sns.set_style('darkgrid')\n",
    "print(\"df shape\",df.shape)\n",
    "p = sns.lmplot(data=df, x='dim1', y='dim2', fit_reg=False, hue='label', scatter_kws={'alpha':0.3})\n",
    "line1 = lines.Line2D([20,40],[40,20],lw=1, color='black',alpha=0.5)\n",
    "p.axes[0,0].add_line(line1)\n",
    "line2 = lines.Line2D([20,38],[37,20],lw=1, color='black',alpha=0.5)\n",
    "p.axes[0,0].add_line(line2)\n",
    "line3 = lines.Line2D([20,40],[35,25],lw=1, color='black',alpha=0.5)\n",
    "p.axes[0,0].add_line(line3)\n",
    "plt.savefig('svm-lines2.png',dpi=300)"
   ]
  },
  {
   "cell_type": "code",
   "execution_count": null,
   "metadata": {},
   "outputs": [],
   "source": [
    "import numpy as np\n",
    "import pandas as pd\n",
    "import matplotlib.pyplot as plt\n",
    "import seaborn as sns\n",
    "import matplotlib.lines as lines\n",
    "from sklearn import svm\n",
    "\n",
    "np.random.seed(10)\n",
    "cov1 = np.array(([5,1],[1,5]))\n",
    "mean1 = np.array([35,35])\n",
    "data1 = np.random.multivariate_normal(mean1, cov1,100)\n",
    "df1 = pd.DataFrame(data1, columns=['dim1','dim2'])\n",
    "df1['label'] = 1\n",
    "\n",
    "mean2 = np.array([25,25])\n",
    "cov1 = np.array(([5,0.5],[0.5,5]))\n",
    "data2 = np.random.multivariate_normal(mean2, cov1,100)\n",
    "df2 = pd.DataFrame(data2, columns=['dim1','dim2'])\n",
    "df2['label'] = 0\n",
    "\n",
    "df = pd.concat((df1,df2))\n",
    "\n",
    "estimator = svm.SVC(kernel='linear')\n",
    "classifier = estimator.fit(df.iloc[:,0:2],df['label'])\n",
    "\n",
    "xx = np.linspace(10, 50, 50)\n",
    "yy = np.linspace(10, 50, 50)\n",
    "YY, XX = np.meshgrid(yy, xx)\n",
    "xy = np.vstack([XX.ravel(), YY.ravel()]).T\n",
    "Z = classifier.decision_function(xy).reshape(XX.shape)\n",
    "\n",
    "plt.figure(figsize=(10,10),dpi=300)\n",
    "sns.set_style('darkgrid')\n",
    "p = sns.lmplot(data=df, x='dim1', y='dim2', fit_reg=False, hue='label', scatter_kws={'alpha':0.3})\n",
    "p.axes[0,0].contour(XX, YY, Z, colors='b', levels=[-1, 0, 1], alpha=0.3,\n",
    "           linestyles=['--', '-', '--'])\n",
    "\n",
    "p.axes[0,0].scatter(classifier.support_vectors_[:, 0], classifier.support_vectors_[:, 1], s=100,\n",
    "           linewidth=1, facecolors='none', edgecolors='red')\n",
    "plt.savefig('svm-lines3.png',dpi=300)"
   ]
  },
  {
   "cell_type": "code",
   "execution_count": null,
   "metadata": {},
   "outputs": [],
   "source": [
    "from sklearn.metrics.pairwise import rbf_kernel\n",
    "x = np.array([[1,2],[1,2],[9,10],[10,10]])\n",
    "y = np.array([[1,2],[2,1],[1,2],[1,2]])\n",
    "rbf_kernel(x,y, gamma=1)"
   ]
  }
 ],
 "metadata": {
  "kernelspec": {
   "display_name": "Python 3",
   "language": "python",
   "name": "python3"
  },
  "language_info": {
   "codemirror_mode": {
    "name": "ipython",
    "version": 3
   },
   "file_extension": ".py",
   "mimetype": "text/x-python",
   "name": "python",
   "nbconvert_exporter": "python",
   "pygments_lexer": "ipython3",
   "version": "3.7.1"
  }
 },
 "nbformat": 4,
 "nbformat_minor": 2
}
